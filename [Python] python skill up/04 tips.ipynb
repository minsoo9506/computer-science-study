{
 "cells": [
  {
   "cell_type": "code",
   "execution_count": 6,
   "source": [
    "\r\n",
    "# doc string\r\n",
    "def sum(a, b):\r\n",
    "    '''sum function\r\n",
    "\r\n",
    "    This is sum function!\r\n",
    "    '''\r\n",
    "    return a + b\r\n",
    "\r\n",
    "help(sum)"
   ],
   "outputs": [
    {
     "output_type": "stream",
     "name": "stdout",
     "text": [
      "Help on function sum in module __main__:\n",
      "\n",
      "sum(a, b)\n",
      "    sum function\n",
      "    \n",
      "    This is sum function!\n",
      "\n"
     ]
    }
   ],
   "metadata": {}
  },
  {
   "cell_type": "markdown",
   "source": [
    "- `*agrs` 는 인수들을 리스트로 인식하지만 작성할 때 리스트 문법을 사용할 필요는 없다"
   ],
   "metadata": {}
  },
  {
   "cell_type": "code",
   "execution_count": 8,
   "source": [
    "def func(*args):\r\n",
    "    print(args)\r\n",
    "\r\n",
    "func(1,2,3)\r\n",
    "func(1,2,3,4)\r\n",
    "\r\n",
    "def func(*args):\r\n",
    "    print(args[0])\r\n",
    "\r\n",
    "func(1,2,3)\r\n",
    "func(1,2,3,4)"
   ],
   "outputs": [
    {
     "output_type": "stream",
     "name": "stdout",
     "text": [
      "(1, 2, 3)\n",
      "(1, 2, 3, 4)\n",
      "1\n",
      "1\n"
     ]
    }
   ],
   "metadata": {}
  },
  {
   "cell_type": "markdown",
   "source": [
    "- `**kwargs` 딕셔너리 형태의 인수"
   ],
   "metadata": {}
  },
  {
   "cell_type": "code",
   "execution_count": 10,
   "source": [
    "def my_print(**kwargs):\r\n",
    "    for k, v in kwargs.items():\r\n",
    "        print(k, ':', v)\r\n",
    "\r\n",
    "my_print(a=1, b=2)       "
   ],
   "outputs": [
    {
     "output_type": "stream",
     "name": "stdout",
     "text": [
      "a : 1\n",
      "b : 2\n"
     ]
    }
   ],
   "metadata": {}
  },
  {
   "cell_type": "markdown",
   "source": [
    "- 데코레이터"
   ],
   "metadata": {}
  },
  {
   "cell_type": "code",
   "execution_count": 3,
   "source": [
    "def show(func):\r\n",
    "    def wrapper(*args):\r\n",
    "        print(func.__name__, '시작')\r\n",
    "        func(*args)\r\n",
    "        print('완료!')\r\n",
    "    return wrapper\r\n",
    "\r\n",
    "def add(a, b):\r\n",
    "    print(a + b)\r\n",
    "    return None\r\n",
    "\r\n",
    "decorated_add = show(add)\r\n",
    "decorated_add(1, 2)"
   ],
   "outputs": [
    {
     "output_type": "stream",
     "name": "stdout",
     "text": [
      "add 시작\n",
      "3\n",
      "완료!\n"
     ]
    }
   ],
   "metadata": {}
  },
  {
   "cell_type": "code",
   "execution_count": 5,
   "source": [
    "def show(func):\r\n",
    "    def wrapper(*args):\r\n",
    "        print(func.__name__, '시작')\r\n",
    "        func(*args)\r\n",
    "        print('완료!')\r\n",
    "    return wrapper\r\n",
    "\r\n",
    "@show\r\n",
    "def add(a, b):\r\n",
    "    print(a + b)\r\n",
    "    return None\r\n",
    "\r\n",
    "add(1,2)"
   ],
   "outputs": [
    {
     "output_type": "stream",
     "name": "stdout",
     "text": [
      "add 시작\n",
      "3\n",
      "완료!\n"
     ]
    }
   ],
   "metadata": {}
  },
  {
   "cell_type": "markdown",
   "source": [
    "- 이터레이터 만들기"
   ],
   "metadata": {}
  },
  {
   "cell_type": "code",
   "execution_count": 6,
   "source": [
    "class Counter:\r\n",
    "    def __init__(self, stop):\r\n",
    "        self.current = 0\r\n",
    "        self.stop = stop\r\n",
    "\r\n",
    "    def __iter__(self):\r\n",
    "        return self\r\n",
    "\r\n",
    "    def __next__(self):\r\n",
    "        if self.current < self.stop:\r\n",
    "            r = self.current\r\n",
    "            self.current += 1\r\n",
    "            return r\r\n",
    "        else:\r\n",
    "            raise StopIteration\r\n",
    "        \r\n",
    "for i in Counter(3):\r\n",
    "    print(i)"
   ],
   "outputs": [
    {
     "output_type": "stream",
     "name": "stdout",
     "text": [
      "0\n",
      "1\n",
      "2\n"
     ]
    }
   ],
   "metadata": {}
  },
  {
   "cell_type": "code",
   "execution_count": 9,
   "source": [
    "c = Counter(3)\r\n",
    "print(next(c))\r\n",
    "print(next(c))"
   ],
   "outputs": [
    {
     "output_type": "stream",
     "name": "stdout",
     "text": [
      "0\n",
      "1\n"
     ]
    }
   ],
   "metadata": {}
  },
  {
   "cell_type": "markdown",
   "source": [
    "- 제너레이터"
   ],
   "metadata": {}
  },
  {
   "cell_type": "code",
   "execution_count": 11,
   "source": [
    "def make_seq_gen(x):\r\n",
    "    for i in range(x):\r\n",
    "        yield i\r\n",
    "\r\n",
    "your_gen = make_seq_gen(3)\r\n",
    "print(next(your_gen))\r\n",
    "print(next(your_gen))\r\n",
    "\r\n",
    "your_gen = make_seq_gen(3)\r\n",
    "for i in your_gen:\r\n",
    "    print(i)"
   ],
   "outputs": [
    {
     "output_type": "stream",
     "name": "stdout",
     "text": [
      "0\n",
      "1\n",
      "0\n",
      "1\n",
      "2\n"
     ]
    }
   ],
   "metadata": {}
  },
  {
   "cell_type": "code",
   "execution_count": null,
   "source": [],
   "outputs": [],
   "metadata": {}
  }
 ],
 "metadata": {
  "orig_nbformat": 4,
  "language_info": {
   "name": "python",
   "version": "3.8.3",
   "mimetype": "text/x-python",
   "codemirror_mode": {
    "name": "ipython",
    "version": 3
   },
   "pygments_lexer": "ipython3",
   "nbconvert_exporter": "python",
   "file_extension": ".py"
  },
  "kernelspec": {
   "name": "python3",
   "display_name": "Python 3.8.3 64-bit ('base': conda)"
  },
  "interpreter": {
   "hash": "eb4a930fd72145d7d9fa392a4813b9eb8d897082c9b5b890b08605dc32c3d185"
  }
 },
 "nbformat": 4,
 "nbformat_minor": 2
}