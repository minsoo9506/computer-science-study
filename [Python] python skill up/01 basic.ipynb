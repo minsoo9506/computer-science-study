{
 "cells": [
  {
   "cell_type": "markdown",
   "source": [
    "- 인수에 새로운 값을 대입하면 기존 값과의 연결이 끊어짐\r\n",
    "  - 즉, 참조전달이 끝남"
   ],
   "metadata": {}
  },
  {
   "cell_type": "code",
   "execution_count": 2,
   "source": [
    "x = 10\r\n",
    "\r\n",
    "def pass_by_ref(x):\r\n",
    "    return x\r\n",
    "\r\n",
    "def pass_by_val(x):\r\n",
    "    x = x * 2\r\n",
    "    return x\r\n",
    "\r\n",
    "print(f'기존 x의 id = {id(x)}')\r\n",
    "print(f'함수 인자로 넣고 그대로 나온 경우 id = {id(pass_by_ref(x))}')\r\n",
    "print(f'함수 인자로 넣고 값을 바꾼 경우 id = {id(pass_by_val(x))}')"
   ],
   "outputs": [
    {
     "output_type": "stream",
     "name": "stdout",
     "text": [
      "기존 x의 id = 140727684839488\n",
      "함수 인자로 넣고 그대로 나온 경우 id = 140727684839488\n",
      "함수 인자로 넣고 값을 바꾼 경우 id = 140727684839808\n"
     ]
    }
   ],
   "metadata": {}
  },
  {
   "cell_type": "code",
   "execution_count": 4,
   "source": [
    "x = 'abcdef'\r\n",
    "\r\n",
    "print(id(x))\r\n",
    "x += 'g'\r\n",
    "print(id(x))\r\n",
    "# 새로운 메모리에 저장되는 구나"
   ],
   "outputs": [
    {
     "output_type": "stream",
     "name": "stdout",
     "text": [
      "2715789604144\n",
      "2715790675888\n"
     ]
    }
   ],
   "metadata": {}
  },
  {
   "cell_type": "markdown",
   "source": [
    "- list, tuple, dictionary, set\r\n",
    "  - tuple은 list와 마찬가지로 중복 값 허용, 정렬 가능! 하지만 값 변경 불가!\r\n",
    "- set를 빈값으로 초기화할 때는 `set()` 이용"
   ],
   "metadata": {}
  },
  {
   "cell_type": "code",
   "execution_count": 10,
   "source": [
    "# tuple sorted 정렬하면 list로 return\r\n",
    "a = (1,3,7,2,2,6)\r\n",
    "print(sorted(a))\r\n",
    "print(type(sorted(a)))"
   ],
   "outputs": [
    {
     "output_type": "stream",
     "name": "stdout",
     "text": [
      "[1, 2, 2, 3, 6, 7]\n",
      "<class 'list'>\n"
     ]
    }
   ],
   "metadata": {}
  },
  {
   "cell_type": "markdown",
   "source": [],
   "metadata": {}
  }
 ],
 "metadata": {
  "orig_nbformat": 4,
  "language_info": {
   "name": "python",
   "version": "3.8.3",
   "mimetype": "text/x-python",
   "codemirror_mode": {
    "name": "ipython",
    "version": 3
   },
   "pygments_lexer": "ipython3",
   "nbconvert_exporter": "python",
   "file_extension": ".py"
  },
  "kernelspec": {
   "name": "python3",
   "display_name": "Python 3.8.3 64-bit ('base': conda)"
  },
  "interpreter": {
   "hash": "eb4a930fd72145d7d9fa392a4813b9eb8d897082c9b5b890b08605dc32c3d185"
  }
 },
 "nbformat": 4,
 "nbformat_minor": 2
}