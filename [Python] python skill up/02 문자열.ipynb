{
 "cells": [
  {
   "cell_type": "markdown",
   "source": [
    "`구분자문자열.join(리스트)`"
   ],
   "metadata": {}
  },
  {
   "cell_type": "code",
   "execution_count": 2,
   "source": [
    "str_list = ['apple', 'banana', 'cat']\r\n",
    "\r\n",
    "'-'.join(str_list)"
   ],
   "outputs": [
    {
     "output_type": "execute_result",
     "data": {
      "text/plain": [
       "'apple-banana-cat'"
      ]
     },
     "metadata": {},
     "execution_count": 2
    }
   ],
   "metadata": {}
  },
  {
   "cell_type": "markdown",
   "source": [
    "- 기본 내장 함수\r\n",
    "  - `input`\r\n",
    "  - `len`\r\n",
    "  - `max`\r\n",
    "  - `min`\r\n",
    "  - `reversed`\r\n",
    "  - `sorted`"
   ],
   "metadata": {}
  },
  {
   "cell_type": "code",
   "execution_count": 3,
   "source": [
    "my_str = 'apple is red!'\r\n",
    "reversed(my_str) # 이터레이터"
   ],
   "outputs": [
    {
     "output_type": "execute_result",
     "data": {
      "text/plain": [
       "<reversed at 0x21280e86ee0>"
      ]
     },
     "metadata": {},
     "execution_count": 3
    }
   ],
   "metadata": {}
  },
  {
   "cell_type": "code",
   "execution_count": 4,
   "source": [
    "''.join(reversed(my_str))"
   ],
   "outputs": [
    {
     "output_type": "execute_result",
     "data": {
      "text/plain": [
       "'!der si elppa'"
      ]
     },
     "metadata": {},
     "execution_count": 4
    }
   ],
   "metadata": {}
  },
  {
   "cell_type": "code",
   "execution_count": 5,
   "source": [
    "sorted(my_str)"
   ],
   "outputs": [
    {
     "output_type": "execute_result",
     "data": {
      "text/plain": [
       "[' ', ' ', '!', 'a', 'd', 'e', 'e', 'i', 'l', 'p', 'p', 'r', 's']"
      ]
     },
     "metadata": {},
     "execution_count": 5
    }
   ],
   "metadata": {}
  },
  {
   "cell_type": "markdown",
   "source": [
    "- 불리언 메서드\r\n",
    "  - `str.isalnum()` : 모든 문자가 글자와 숫자?\r\n",
    "  - `str.isalpha()` : 모든 문자가 글자?\r\n",
    "  - `str.isdigit()` : 모든 문자가 10진수 숫자?\r\n",
    "  - `str.isspace()` : 모든 문자가 공백?\r\n",
    "  - ..."
   ],
   "metadata": {}
  },
  {
   "cell_type": "code",
   "execution_count": 9,
   "source": [
    "print(my_str.isdigit())\r\n",
    "print(my_str.isalpha())\r\n",
    "print(my_str.isspace())"
   ],
   "outputs": [
    {
     "output_type": "stream",
     "name": "stdout",
     "text": [
      "False\n",
      "False\n",
      "False\n"
     ]
    }
   ],
   "metadata": {}
  },
  {
   "cell_type": "code",
   "execution_count": 11,
   "source": [
    "my_str = '10'\r\n",
    "print(my_str.isdigit())\r\n",
    "print(my_str.isalpha())\r\n",
    "print(my_str.isspace())\r\n",
    "\r\n",
    "my_str = 'apple'\r\n",
    "print(my_str.isdigit())\r\n",
    "print(my_str.isalpha())\r\n",
    "print(my_str.isspace())"
   ],
   "outputs": [
    {
     "output_type": "stream",
     "name": "stdout",
     "text": [
      "True\n",
      "False\n",
      "False\n",
      "False\n",
      "True\n",
      "False\n"
     ]
    }
   ],
   "metadata": {}
  },
  {
   "cell_type": "markdown",
   "source": [
    "- 대소문자 변환 메소드\r\n",
    "  - `문자열.lower()`\r\n",
    "  - `문자열.upper()`\r\n",
    "  - `문자열.swapcase()`\r\n",
    "  - `문자열.title()`"
   ],
   "metadata": {}
  },
  {
   "cell_type": "code",
   "execution_count": 13,
   "source": [
    "my_str = 'This is title'\r\n",
    "print(my_str.lower())\r\n",
    "print(my_str.upper())\r\n",
    "print(my_str.swapcase())\r\n",
    "print(my_str.title())"
   ],
   "outputs": [
    {
     "output_type": "stream",
     "name": "stdout",
     "text": [
      "this is title\n",
      "THIS IS TITLE\n",
      "tHIS IS TITLE\n",
      "This Is Title\n"
     ]
    }
   ],
   "metadata": {}
  },
  {
   "cell_type": "markdown",
   "source": [
    "- 검색-교체 메서드\r\n",
    "  - `문자열.startswith(부분문자열)`\r\n",
    "  - `문자열.endswith(부분문자열)`\r\n",
    "  - `문자열.count(부분문자열)`\r\n",
    "  - `문자열.find(부분문자열)`\r\n",
    "  - `문자열.replace(부분문자열)`"
   ],
   "metadata": {}
  },
  {
   "cell_type": "code",
   "execution_count": 16,
   "source": [
    "my_str = 'apple is red'\r\n",
    "\r\n",
    "print(my_str.startswith('ap'))\r\n",
    "print(my_str.startswith('apple '))\r\n",
    "print(my_str.startswith('ab'))\r\n",
    "\r\n",
    "print(my_str.endswith('ap'))\r\n",
    "print(my_str.endswith('red'))\r\n"
   ],
   "outputs": [
    {
     "output_type": "stream",
     "name": "stdout",
     "text": [
      "True\n",
      "True\n",
      "False\n",
      "False\n",
      "True\n"
     ]
    }
   ],
   "metadata": {}
  },
  {
   "cell_type": "code",
   "execution_count": 21,
   "source": [
    "print(my_str.find('r'))\r\n",
    "print(my_str.count('e'))\r\n",
    "print(my_str.replace('r', 'b'))"
   ],
   "outputs": [
    {
     "output_type": "stream",
     "name": "stdout",
     "text": [
      "9\n",
      "2\n",
      "apple is bed\n"
     ]
    }
   ],
   "metadata": {}
  },
  {
   "cell_type": "markdown",
   "source": [
    "- `입력문자열.split(구분문자열)`\r\n",
    "- 앞뒤 문자 제거\r\n",
    "  - `문자열.strip(제거문자열=' ')`\r\n",
    "  - `문자열.lstrip(제거문자열=' ')`\r\n",
    "  - `문자열.rstrip(제거문자열=' ')`"
   ],
   "metadata": {}
  },
  {
   "cell_type": "code",
   "execution_count": 26,
   "source": [
    "my_str = '    apple is red    '\r\n",
    "print(my_str)\r\n",
    "print(my_str.lstrip())\r\n",
    "print(my_str.rstrip())"
   ],
   "outputs": [
    {
     "output_type": "stream",
     "name": "stdout",
     "text": [
      "    apple is red    \n",
      "apple is red    \n",
      "    apple is red\n"
     ]
    }
   ],
   "metadata": {}
  }
 ],
 "metadata": {
  "orig_nbformat": 4,
  "language_info": {
   "name": "python",
   "version": "3.8.3",
   "mimetype": "text/x-python",
   "codemirror_mode": {
    "name": "ipython",
    "version": 3
   },
   "pygments_lexer": "ipython3",
   "nbconvert_exporter": "python",
   "file_extension": ".py"
  },
  "kernelspec": {
   "name": "python3",
   "display_name": "Python 3.8.3 64-bit ('base': conda)"
  },
  "interpreter": {
   "hash": "eb4a930fd72145d7d9fa392a4813b9eb8d897082c9b5b890b08605dc32c3d185"
  }
 },
 "nbformat": 4,
 "nbformat_minor": 2
}