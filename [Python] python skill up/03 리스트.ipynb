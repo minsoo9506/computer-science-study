{
 "cells": [
  {
   "cell_type": "code",
   "execution_count": 2,
   "source": [
    "a = [1,2,3]\r\n",
    "b = a\r\n",
    "c = a[:]\r\n",
    "\r\n",
    "print(id(a))\r\n",
    "print(id(b))\r\n",
    "print(id(c))\r\n",
    "\r\n",
    "a.append(4)\r\n",
    "print(id(a))"
   ],
   "outputs": [
    {
     "output_type": "stream",
     "name": "stdout",
     "text": [
      "2495372911808\n",
      "2495372911808\n",
      "2495373331840\n",
      "2495372911808\n"
     ]
    }
   ],
   "metadata": {}
  },
  {
   "cell_type": "markdown",
   "source": [
    "- 얕은 복사 vs 깊은 복사 "
   ],
   "metadata": {}
  },
  {
   "cell_type": "code",
   "execution_count": 3,
   "source": [
    "a = [1,2,[3,5]]\r\n",
    "# 얕은 복사\r\n",
    "b = a[:]\r\n",
    "b[2][0] = 10\r\n",
    "\r\n",
    "print(a)"
   ],
   "outputs": [
    {
     "output_type": "stream",
     "name": "stdout",
     "text": [
      "[1, 2, [10, 5]]\n"
     ]
    }
   ],
   "metadata": {}
  },
  {
   "cell_type": "code",
   "execution_count": 4,
   "source": [
    "import copy\r\n",
    "a = [1,2,[3,5]]\r\n",
    "# 깊은 복사\r\n",
    "b = copy.deepcopy(a)\r\n",
    "b[2][0] = 10\r\n",
    "\r\n",
    "print(a)\r\n"
   ],
   "outputs": [
    {
     "output_type": "stream",
     "name": "stdout",
     "text": [
      "[1, 2, [3, 5]]\n"
     ]
    }
   ],
   "metadata": {}
  },
  {
   "cell_type": "markdown",
   "source": [
    "- `len`\r\n",
    "- `max`\r\n",
    "- `min`\r\n",
    "- `reversed` : iterable을 반환\r\n",
    "- `sorted`\r\n",
    "- `sum`"
   ],
   "metadata": {}
  },
  {
   "cell_type": "markdown",
   "source": [
    "## 리스트 메서드\r\n",
    "- 리스트 수정\r\n",
    "  - `리스트.append(값)`\r\n",
    "  - `리스트.clear()`\r\n",
    "  - `리스트.extend(이터러블)`\r\n",
    "  - `리스트.insert(인덱스, 값)`\r\n",
    "  - `리스트.remove(값)`\r\n",
    "- 내용 정보 가져오기\r\n",
    "  - `리스트.count(값)`\r\n",
    "  - `리스트.index(값[, 시작 [, 종료]])`\r\n",
    "  - `리스트.pop([인덱스])`\r\n",
    "- 재편성\r\n",
    "  - `리스트.sort()`\r\n",
    "  - `리스트.reverse()`"
   ],
   "metadata": {}
  },
  {
   "cell_type": "code",
   "execution_count": 10,
   "source": [
    "import functools\r\n",
    "\r\n",
    "def add_func(a, b):\r\n",
    "    return a + b\r\n",
    "\r\n",
    "my_list = [1, 2, 3, 4, 5]\r\n",
    "\r\n",
    "result = functools.reduce(add_func, my_list)\r\n",
    "print(result)\r\n",
    "\r\n",
    "# 2개의 인수를 갖는 함수를 이용하여\r\n",
    "# 인수들을 누적하면서 함수진행"
   ],
   "outputs": [
    {
     "output_type": "stream",
     "name": "stdout",
     "text": [
      "15\n"
     ]
    }
   ],
   "metadata": {}
  },
  {
   "cell_type": "code",
   "execution_count": 12,
   "source": [
    "result = functools.reduce(lambda x, y : x + y, my_list)\r\n",
    "print(result)"
   ],
   "outputs": [
    {
     "output_type": "stream",
     "name": "stdout",
     "text": [
      "15\n"
     ]
    }
   ],
   "metadata": {}
  },
  {
   "cell_type": "code",
   "execution_count": 15,
   "source": [
    "# 리스트 함축\r\n",
    "a = [1,2,3,4]\r\n",
    "b = []\r\n",
    "\r\n",
    "for i in a:\r\n",
    "    b.append(i * 2)\r\n",
    "print(b)\r\n",
    "\r\n",
    "b = [i * 2 for i in a]\r\n",
    "print(b)"
   ],
   "outputs": [
    {
     "output_type": "stream",
     "name": "stdout",
     "text": [
      "[2, 4, 6, 8]\n",
      "[2, 4, 6, 8]\n"
     ]
    }
   ],
   "metadata": {}
  },
  {
   "cell_type": "code",
   "execution_count": 16,
   "source": [
    "[i * 2 for i in a if i > 1]"
   ],
   "outputs": [
    {
     "output_type": "execute_result",
     "data": {
      "text/plain": [
       "[4, 6, 8]"
      ]
     },
     "metadata": {},
     "execution_count": 16
    }
   ],
   "metadata": {}
  },
  {
   "cell_type": "code",
   "execution_count": 21,
   "source": [
    "a = [[0] * 5] * 5\r\n",
    "a"
   ],
   "outputs": [
    {
     "output_type": "execute_result",
     "data": {
      "text/plain": [
       "[[0, 0, 0, 0, 0],\n",
       " [0, 0, 0, 0, 0],\n",
       " [0, 0, 0, 0, 0],\n",
       " [0, 0, 0, 0, 0],\n",
       " [0, 0, 0, 0, 0]]"
      ]
     },
     "metadata": {},
     "execution_count": 21
    }
   ],
   "metadata": {}
  },
  {
   "cell_type": "code",
   "execution_count": 24,
   "source": [
    "# 똑같은 곳을 가리킨다\r\n",
    "print(id(a[0]))\r\n",
    "print(id(a[1]))"
   ],
   "outputs": [
    {
     "output_type": "stream",
     "name": "stdout",
     "text": [
      "2493229212224\n",
      "2493229212224\n"
     ]
    }
   ],
   "metadata": {}
  },
  {
   "cell_type": "code",
   "execution_count": 25,
   "source": [
    "b = [[0] * 5 for _ in range(5)]\r\n",
    "b"
   ],
   "outputs": [
    {
     "output_type": "execute_result",
     "data": {
      "text/plain": [
       "[[0, 0, 0, 0, 0],\n",
       " [0, 0, 0, 0, 0],\n",
       " [0, 0, 0, 0, 0],\n",
       " [0, 0, 0, 0, 0],\n",
       " [0, 0, 0, 0, 0]]"
      ]
     },
     "metadata": {},
     "execution_count": 25
    }
   ],
   "metadata": {}
  },
  {
   "cell_type": "code",
   "execution_count": 26,
   "source": [
    "print(id(b[0]))\r\n",
    "print(id(b[1]))"
   ],
   "outputs": [
    {
     "output_type": "stream",
     "name": "stdout",
     "text": [
      "2493239736320\n",
      "2493239734400\n"
     ]
    }
   ],
   "metadata": {}
  }
 ],
 "metadata": {
  "orig_nbformat": 4,
  "language_info": {
   "name": "python",
   "version": "3.8.3",
   "mimetype": "text/x-python",
   "codemirror_mode": {
    "name": "ipython",
    "version": 3
   },
   "pygments_lexer": "ipython3",
   "nbconvert_exporter": "python",
   "file_extension": ".py"
  },
  "kernelspec": {
   "name": "python3",
   "display_name": "Python 3.8.3 64-bit ('base': conda)"
  },
  "interpreter": {
   "hash": "eb4a930fd72145d7d9fa392a4813b9eb8d897082c9b5b890b08605dc32c3d185"
  }
 },
 "nbformat": 4,
 "nbformat_minor": 2
}